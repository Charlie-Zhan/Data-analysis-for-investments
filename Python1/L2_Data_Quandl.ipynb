{
 "cells": [
  {
   "cell_type": "markdown",
   "metadata": {},
   "source": [
    "## Getting data using quandl\n",
    "you need to install quandl and get a free API code first."
   ]
  },
  {
   "cell_type": "code",
   "execution_count": 4,
   "metadata": {},
   "outputs": [
    {
     "name": "stdout",
     "output_type": "stream",
     "text": [
      "<class 'pandas.core.frame.DataFrame'>\n",
      "2070\n",
      "              Open    High     Low   Close      Volume  Ex-Dividend  \\\n",
      "Date                                                                  \n",
      "2010-01-04  213.43  214.50  212.38  214.01  17633200.0          0.0   \n",
      "2010-01-05  214.60  215.59  213.25  214.38  21496600.0          0.0   \n",
      "2010-01-06  214.38  215.23  210.75  210.97  19720000.0          0.0   \n",
      "\n",
      "            Split Ratio  Adj. Open  Adj. High   Adj. Low  Adj. Close  \\\n",
      "Date                                                                   \n",
      "2010-01-04          1.0  27.428730  27.566240  27.293790   27.503268   \n",
      "2010-01-05          1.0  27.579091  27.706320  27.405597   27.550818   \n",
      "2010-01-06          1.0  27.550818  27.660055  27.084312   27.112585   \n",
      "\n",
      "            Adj. Volume  \n",
      "Date                     \n",
      "2010-01-04  123432400.0  \n",
      "2010-01-05  150476200.0  \n",
      "2010-01-06  138040000.0  \n",
      "              Open    High     Low   Close      Volume  Ex-Dividend  \\\n",
      "Date                                                                  \n",
      "2018-03-23  168.39  169.92  164.94  164.94  40248954.0          0.0   \n",
      "2018-03-26  168.07  173.10  166.44  172.77  36272617.0          0.0   \n",
      "2018-03-27  173.68  175.15  166.92  168.34  38962839.0          0.0   \n",
      "\n",
      "            Split Ratio  Adj. Open  Adj. High  Adj. Low  Adj. Close  \\\n",
      "Date                                                                  \n",
      "2018-03-23          1.0     168.39     169.92    164.94      164.94   \n",
      "2018-03-26          1.0     168.07     173.10    166.44      172.77   \n",
      "2018-03-27          1.0     173.68     175.15    166.92      168.34   \n",
      "\n",
      "            Adj. Volume  \n",
      "Date                     \n",
      "2018-03-23   40248954.0  \n",
      "2018-03-26   36272617.0  \n",
      "2018-03-27   38962839.0  \n",
      "Monthly data\n",
      "98\n",
      "              Open    High     Low    Close      Volume  Ex-Dividend  \\\n",
      "Date                                                                   \n",
      "2010-01-31  201.08  202.20  190.25  192.063  44498300.0          0.0   \n",
      "2010-02-28  202.38  205.17  202.00  204.620  18123600.0          0.0   \n",
      "2010-03-31  235.49  236.61  234.46  235.000  15380700.0          0.0   \n",
      "\n",
      "            Split Ratio  Adj. Open  Adj. High   Adj. Low  Adj. Close  \\\n",
      "Date                                                                   \n",
      "2010-01-31          1.0  25.841583  25.985518  24.449777   24.682772   \n",
      "2010-02-28          1.0  26.008651  26.367205  25.959815   26.296522   \n",
      "2010-03-31          1.0  30.263747  30.407683  30.131378   30.200775   \n",
      "\n",
      "            Adj. Volume  \n",
      "Date                     \n",
      "2010-01-31  311488100.0  \n",
      "2010-02-28  126865200.0  \n",
      "2010-03-31  107664900.0  \n"
     ]
    }
   ],
   "source": [
    "import quandl            # To install, using Snyder by typing:   pip install quandl\n",
    "import pandas as pd      # use it too format data and write it out\n",
    "\n",
    "#    you registere at www.quandl.com to get a free APT code/key, and enter below\n",
    "#    that allows you connect 20 times and 50 calls a day\n",
    "\n",
    "key = 'ebY9skzQPSUVMEiwQXSp'     # denote your code as key\n",
    "quandl.ApiConfig.api_key = key       # pass the key to Quandl\n",
    "\n",
    "                     # Let us get Apple price as an example, enter exchange/stock symbol\n",
    "aapl = quandl.get(\"WIKI/AAPL\", start_date=\"2010-01-02\", end_date=\"2018-03-27\")  \n",
    "                               # the free access data end at 2018-03-27 the last time I check\n",
    "                               # one can add symbol such as \"WIKI/AAPL,WIKI/IBM,...\" \n",
    "        \n",
    "print(type(aapl))   # check data type \n",
    "\n",
    "T = len(aapl)\n",
    "print(T)\n",
    "print(aapl[0:3])              # check a few of the daily data\n",
    "print(aapl[T-3:T])\n",
    "\n",
    "                     # to get monthly data (weekly, quarerly and annually are available too)\n",
    "\n",
    "aapl2 = quandl.get(\"WIKI/AAPL\", start_date=\"2010-01-02\", end_date=\"2018-02-28\", collapse=\"monthly\")  \n",
    "\n",
    "print('Monthly data')\n",
    "T = len(aapl2)\n",
    "print(T)\n",
    "print(aapl2[0:3])              # check a few of the daily data\n",
    "\n",
    "AdjP = aapl2.loc[:,\"Adj. Close\"]   #  B/c dividend and split adjusted, we compute only the % price change \n",
    "Return = AdjP /  AdjP.shift(1) - 1    # the shift(1) is the previous price\n",
    "\n",
    "pd.DataFrame.to_csv(Return,'AAPL3.csv')   # write data into an excel file\n",
    "    "
   ]
  },
  {
   "cell_type": "code",
   "execution_count": null,
   "metadata": {},
   "outputs": [],
   "source": []
  }
 ],
 "metadata": {
  "kernelspec": {
   "display_name": "Python 3",
   "language": "python",
   "name": "python3"
  },
  "language_info": {
   "codemirror_mode": {
    "name": "ipython",
    "version": 3
   },
   "file_extension": ".py",
   "mimetype": "text/x-python",
   "name": "python",
   "nbconvert_exporter": "python",
   "pygments_lexer": "ipython3",
   "version": "3.7.6"
  }
 },
 "nbformat": 4,
 "nbformat_minor": 2
}
