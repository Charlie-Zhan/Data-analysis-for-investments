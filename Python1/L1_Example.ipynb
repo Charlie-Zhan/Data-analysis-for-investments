{
 "cells": [
  {
   "cell_type": "markdown",
   "metadata": {},
   "source": [
    "*  This save the codes for the matrix/portfolio example \n"
   ]
  },
  {
   "cell_type": "code",
   "execution_count": 1,
   "metadata": {},
   "outputs": [],
   "source": [
    "import numpy as np         # To do mathematical operations later\n",
    "\n",
    "#  The compound interest example\n",
    "\n",
    "def f(r):\n",
    "    return (1+r)**5\n",
    "    \n",
    "f(.1)\n",
    "Out[10]: 1.6105100000000006\n",
    "\n",
    "f(.15)\n",
    "Out[11]: 2.0113571874999994\n",
    "\n",
    "    \n",
    "#  The matrix example\n",
    "\n",
    "w=[1/3, 1/3, 1/3]          # Note: use comma to separate elements\n",
    "\n",
    "S = [ [.2*.2, 0, 0], [0, .3*.3, .6*.3*.4], [0, .6*.3*.4, .4*.4]]  \n",
    "                           # Note:  double [ [ ] ] for matrices\n",
    "\n",
    "SI = np.linalg.inv(S)    # The inverse of S\n",
    "                         # np.linalg.inv is a np function \n",
    "\n",
    "A = np.matmul(SI, S)       # check if it is identify matrix\n",
    "\n",
    "B = np.matmul(S, w)         #  the vector Sigma*w\n",
    "\n",
    "v = np.transpose(w)         # take the transpose of w\n",
    "\n",
    "var = np.matmul(v,B)       # the variance of the portfolio: \n",
    "                             #        w'*Sigma*w\n",
    "\n",
    "vol = np.sqrt( var )        # the volatility of the portfolio\n"
   ]
  },
  {
   "cell_type": "code",
   "execution_count": null,
   "metadata": {},
   "outputs": [],
   "source": []
  }
 ],
 "metadata": {
  "kernelspec": {
   "display_name": "Python 3",
   "language": "python",
   "name": "python3"
  },
  "language_info": {
   "codemirror_mode": {
    "name": "ipython",
    "version": 3
   },
   "file_extension": ".py",
   "mimetype": "text/x-python",
   "name": "python",
   "nbconvert_exporter": "python",
   "pygments_lexer": "ipython3",
   "version": "3.7.6"
  }
 },
 "nbformat": 4,
 "nbformat_minor": 2
}
