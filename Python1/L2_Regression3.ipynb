{
 "cells": [
  {
   "cell_type": "markdown",
   "metadata": {},
   "source": [
    "*    This program regresses IBM excess return on the market excess return\n",
    "*                 IBM return - r_f  = a + b  (Mkt - r_f)  + e\n",
    "*                                  to get the alpha and beta "
   ]
  },
  {
   "cell_type": "code",
   "execution_count": 2,
   "metadata": {},
   "outputs": [
    {
     "name": "stdout",
     "output_type": "stream",
     "text": [
      "0    0.114701\n",
      "1   -0.032967\n",
      "Name: Return, dtype: float64\n",
      "0    0.05\n",
      "1    0.02\n",
      "Name: rate, dtype: float64\n",
      "                            OLS Regression Results                            \n",
      "==============================================================================\n",
      "Dep. Variable:                      y   R-squared:                       0.325\n",
      "Model:                            OLS   Adj. R-squared:                  0.324\n",
      "Method:                 Least Squares   F-statistic:                     449.3\n",
      "Date:                Tue, 31 Mar 2020   Prob (F-statistic):           1.02e-81\n",
      "Time:                        22:59:24   Log-Likelihood:                 1408.9\n",
      "No. Observations:                 936   AIC:                            -2814.\n",
      "Df Residuals:                     934   BIC:                            -2804.\n",
      "Df Model:                           1                                         \n",
      "Covariance Type:            nonrobust                                         \n",
      "==============================================================================\n",
      "                 coef    std err          t      P>|t|      [0.025      0.975]\n",
      "------------------------------------------------------------------------------\n",
      "const          0.0047      0.002      2.632      0.009       0.001       0.008\n",
      "x1             0.8020      0.038     21.196      0.000       0.728       0.876\n",
      "==============================================================================\n",
      "Omnibus:                       87.581   Durbin-Watson:                   2.009\n",
      "Prob(Omnibus):                  0.000   Jarque-Bera (JB):              421.585\n",
      "Skew:                           0.269   Prob(JB):                     2.84e-92\n",
      "Kurtosis:                       6.244   Cond. No.                         21.5\n",
      "==============================================================================\n",
      "\n",
      "Warnings:\n",
      "[1] Standard Errors assume that the covariance matrix of the errors is correctly specified.\n"
     ]
    }
   ],
   "source": [
    "import pandas as pd                     # To load data, we use the package pandas\n",
    "import numpy as np\n",
    "import matplotlib.pyplot as plt\n",
    "import statsmodels.api as sm                      # We use this package to do estimation\n",
    "%matplotlib inline\n",
    "\n",
    "# Load the monthly return of IBM, Mkt, Riskfree rate\n",
    "\n",
    "df = pd.read_excel('IBM.xlsx') \n",
    "df2 = pd.read_excel('SP500.xlsx') \n",
    "df3 = pd.read_excel('Riskfree.xlsx') \n",
    "\n",
    "T = len(df)                     # Get # of obvs (the headers of the Excel doesn't count)\n",
    "\n",
    "Re = df.loc[:,\"Return\"]\n",
    "Mkt = df2.loc[:,\"Return\"]\n",
    "Rate = df3.loc[:,\"rate\"]\n",
    "\n",
    "print (Mkt[0:2])                                  # check a couple of values\n",
    "print (Rate[0:2])  \n",
    "\n",
    "y = Re - Rate/100                                   #  divided by 100 b/c the rate data is in percentage points\n",
    "x = Mkt - Rate/100\n",
    "\n",
    "y = np.array (y)                                 # put the string into arrays to set dimension\n",
    "x = np.array (x)\n",
    "y.shape = (T,1)                                  # make sure T by 1 vectors\n",
    "x.shape = (T,1)\n",
    "\n",
    "const = np.ones((T,1))               # The constant part\n",
    "xx = np.hstack((const,x))            # Add the constant part to x\n",
    "\n",
    "\n",
    "# Run the regression\n",
    "\n",
    "reg = sm.OLS(endog=y, exog=xx)\n",
    "result = reg.fit()\n",
    "print(result.summary())\n"
   ]
  },
  {
   "cell_type": "code",
   "execution_count": 3,
   "metadata": {},
   "outputs": [
    {
     "data": {
      "image/png": "[encoded data removed]",
      "text/plain": [
       "<Figure size 432x288 with 1 Axes>"
      ]
     },
     "metadata": {
      "needs_background": "light"
     },
     "output_type": "display_data"
    }
   ],
   "source": [
    "# Plot the excess returns of IBM vs Mkt\n",
    "\n",
    "p = plt.plot(x, y,'ro')          # plot the raw data\n",
    "plt.ylabel('IBM')\n",
    "plt.xlabel('Market')\n",
    "plt.show()"
   ]
  },
  {
   "cell_type": "code",
   "execution_count": null,
   "metadata": {},
   "outputs": [],
   "source": []
  },
  {
   "cell_type": "code",
   "execution_count": null,
   "metadata": {},
   "outputs": [],
   "source": []
  },
  {
   "cell_type": "code",
   "execution_count": null,
   "metadata": {},
   "outputs": [],
   "source": []
  }
 ],
 "metadata": {
  "anaconda-cloud": {},
  "kernelspec": {
   "display_name": "Python 3",
   "language": "python",
   "name": "python3"
  },
  "language_info": {
   "codemirror_mode": {
    "name": "ipython",
    "version": 3
   },
   "file_extension": ".py",
   "mimetype": "text/x-python",
   "name": "python",
   "nbconvert_exporter": "python",
   "pygments_lexer": "ipython3",
   "version": "3.7.6"
  }
 },
 "nbformat": 4,
 "nbformat_minor": 1
}
