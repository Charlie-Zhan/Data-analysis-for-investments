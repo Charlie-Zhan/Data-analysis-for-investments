{
 "cells": [
  {
   "cell_type": "markdown",
   "metadata": {},
   "source": [
    "*  This program computes \n",
    "*    1) the 4 summary statistics\n",
    "*    2) the geometric means\n",
    "*    3) some functions of interest\n",
    "*    4) a test of normality  \n",
    "*    5) maximum drawdown, etc"
   ]
  },
  {
   "cell_type": "code",
   "execution_count": null,
   "metadata": {},
   "outputs": [],
   "source": [
    "import pandas as pd                     # To load data, we use the package pandas\n",
    "import numpy as np\n",
    "import matplotlib.pyplot as plt\n",
    "import statsmodels.api as sm                      # We use this package to do estimation\n",
    "%matplotlib inline\n",
    "\n",
    "# Load the monthly return of SP500 from 01/1934 to 12/2011\n",
    "\n",
    "df = pd.read_excel('SP500.xlsx')  \n",
    "Re = df.loc[:,\"Return\"]\n",
    "\n",
    "# Compute the mean and variance\n",
    "\n",
    "mu = np.mean(Re)\n",
    "sig = np.var(Re)          # The variance, i.e., the square of the standard deviation\n",
    "std = np.sqrt(sig)        # The standard deviation\n",
    "sigma = std\n",
    "\n",
    "print('(Monthly) Mean,   Std  \\n')\n",
    "print('        {0:.4f}   {1:.4f}\\n '.format(mu, std))    \n",
    "\n",
    "amu = 12*mu\n",
    "astd = np.sqrt(12)*std\n",
    "print('(Annualized) Mean,   Std  \\n')\n",
    "print('        {0:.4f}   {1:.4f}\\n '.format(amu, astd))   "
   ]
  },
  {
   "cell_type": "code",
   "execution_count": null,
   "metadata": {},
   "outputs": [],
   "source": [
    "# Compute the Sharpe Ratio\n",
    "\n",
    "df2 = pd.read_excel('Riskfree.xlsx') \n",
    "Rate = df2.loc[:,\"rate\"]\n",
    "\n",
    "ER = Re - Rate/100          # the excess return, i.e., return minus riskfree rate\n",
    "                              #  divided by 100 b/c the rate data is in percentage points\n",
    "mu2 = np.mean(ER)\n",
    "sig2 = np.var(ER)          # The variance, i.e., the square of the standard deviation\n",
    "std2 = np.sqrt(sig)        # The standard deviation\n",
    "\n",
    "Sharpe = mu2/std2\n",
    "\n",
    "print('The monthly and annulaized Sharpe ratios \\n')\n",
    "print('          {0:.2f}   {1:.2f}  \\n'.format(Sharpe, np.sqrt(12)*Sharpe)) "
   ]
  },
  {
   "cell_type": "code",
   "execution_count": null,
   "metadata": {},
   "outputs": [],
   "source": [
    "# Compute the skewness and kurtosis\n",
    "\n",
    "skew=0;                  # initialize it be zero\n",
    "kurt=0;\n",
    "\n",
    "T = len(df)             # Get the length, # of obvs (the headers of the Excel doesn't count)\n",
    "\n",
    "for i in range(T):\n",
    "    skew=skew + pow(Re[i]-mu,3)          # sums the 3rd power terms successively\n",
    "    kurt=kurt + pow(Re[i]-mu,4)\n",
    "\n",
    "skew=( skew / pow(sigma,3) ) / T               # take the average\n",
    "kurt=( kurt / pow(sigma,4) ) / T \n",
    "\n",
    "print('(Monthly) skew,   kurt \\n')\n",
    "print('        {0:.4f}   {1:.4f}\\n '.format(skew, kurt))    "
   ]
  },
  {
   "cell_type": "code",
   "execution_count": null,
   "metadata": {},
   "outputs": [],
   "source": [
    "# Compute the 95% confidence for the skewness and kurtosis\n",
    "#   Note first the 95% interval of the normal is [-1.96, 1.96],\n",
    "#     which can be computed by:   x=norminv([0.025 0.975],0,1)\n",
    "    \n",
    "skewA=-1.96*np.sqrt(6/T)\n",
    "skewB=1.96*np.sqrt(6/T)\n",
    " \n",
    "kurtA=-1.96*np.sqrt(24/T)+3\n",
    "kurtB=1.96*np.sqrt(24/T)+3\n",
    "\n",
    "print(' Confidence interval for skew  \\n')\n",
    "print('        {0:.4f}   {1:.4f}\\n '.format(skewA, skewB))\n",
    "print(' Confidence interval for kurt \\n')\n",
    "print('        {0:.4f}   {1:.4f}\\n '.format(kurtA, kurtB))    "
   ]
  },
  {
   "cell_type": "code",
   "execution_count": null,
   "metadata": {},
   "outputs": [],
   "source": [
    "# Compute the wealth (accu return) and geometric mean \n",
    "\n",
    "Value = 1\n",
    "\n",
    "for i in range(T):\n",
    "    Value = Value * (1 + Re[i])\n",
    "\n",
    "gmu=pow(Value, 1/T) - 1 \n",
    "\n",
    "\n",
    "print('The accumulative returns \\n')\n",
    "print('          {0:.2f}\\n'.format(Value))   \n",
    "\n",
    "print('The sample mean and geometric mean  \\n')\n",
    "print('        {0:.4f}   {1:.4f}\\n '.format(mu, gmu))    "
   ]
  },
  {
   "cell_type": "code",
   "execution_count": null,
   "metadata": {},
   "outputs": [],
   "source": [
    "# Q1:  Percentage of up returns?\n",
    "     \n",
    "Up = 0\n",
    "\n",
    "for j in range(T): \n",
    "    if Re[j]>0:\n",
    "        Up = Up+1\n",
    "\n",
    "UpPer = Up/T\n",
    "\n",
    "print('The percentage of up months \\n')\n",
    "print('          {0:.2f} \\n'.format(UpPer)) "
   ]
  },
  {
   "cell_type": "code",
   "execution_count": null,
   "metadata": {},
   "outputs": [],
   "source": [
    "# Q2: What is the accumulative return if we miss 5% of the best returns ?\n",
    "# Assuming earning the average riskfree rate of 4%/12 in those missing months                        \n",
    "                        \n",
    "ReturnS = sorted(Re)    # Sort the returns in increasing order\n",
    "\n",
    "T1 = .05 * T             #  5% of the sample\n",
    "T1 = round(T1)           # Round the number to an integer\n",
    "\n",
    "Value1 = 1\n",
    "\n",
    "for i in range(T-T1):\n",
    "    Value1 = Value1 * (1 + ReturnS[i])\n",
    "\n",
    "for i in range(T - T1 + 1, T):\n",
    "    Value1 = Value1 * (1 + 0.04/12)\n",
    "\n",
    "print('Q2: The accumulative return if we miss 5% of the best months? \\n')\n",
    "print('          {0:.2f}\\n'.format(Value1))"
   ]
  },
  {
   "cell_type": "code",
   "execution_count": null,
   "metadata": {},
   "outputs": [],
   "source": [
    "# Q3: What is the max drawdown, the largest % drop from a previous peak\n",
    "\n",
    "       #Note:  We just copy and paste the algorithm (see the zip file) and take its validity\n",
    "           # for granted, as in most cases in practice for well established theories or formulas.\n",
    "       # Since the algorithm requires prices as input, we translate the\n",
    "       # returns into prices first (the starting price can be set as 100)\n",
    " \n",
    "P = 100*np.ones((T,1))     # initial values\n",
    "\n",
    "MDD = 0\n",
    "Worst = 0\n",
    "             # using the algorithm in the file\n",
    "max = -99\n",
    "Worst = np.amin(Re)         # the minimum of an array, the return here\n",
    "\n",
    "Ptemp = 100                # need a temp to execute P[j+1]=P[j]*(1+Re[j]), so that\n",
    "                             # P[j+1] is stored as P[j], to avoid index out of range in Python\n",
    "\n",
    "for j in range(T): \n",
    "    Ptemp=Ptemp*(1+Re[j])        # convert to prices;\n",
    "    P[j]=Ptemp   \n",
    "    if P[j]>max:\n",
    "        max=P[j]\n",
    "    DD=100*(max-P[j]) / max\n",
    "    if DD>MDD:\n",
    "        MDD=DD\n",
    "        \n",
    "MDD = MDD / 100             # in percentage \n",
    "print(MDD)"
   ]
  },
  {
   "cell_type": "code",
   "execution_count": null,
   "metadata": {},
   "outputs": [],
   "source": [
    "# Simulate T normal random varables with the same mean and varance  \n",
    "\n",
    "e = np.random.randn(T,1)     # Generate data from N(0,1), T by 1  \n",
    "\n",
    "RN = np.ones((T,1))          # create the storage\n",
    "\n",
    "for i in range(T):           # transform the data so that its mean and variance match the mkt\n",
    "     RN[i]=mu + sigma*e[i]          # RN = mu*np.ones((T,1)) + sigma*e does the same, but \n",
    "                                    # month by month may be easier to understand\n",
    " \n"
   ]
  },
  {
   "cell_type": "code",
   "execution_count": null,
   "metadata": {},
   "outputs": [],
   "source": [
    "# plot the returns and simulated returns\n",
    "\n",
    "p=plt.plot(Re)\n",
    "p1 = plt.plot(RN)"
   ]
  },
  {
   "cell_type": "code",
   "execution_count": null,
   "metadata": {},
   "outputs": [],
   "source": [
    "# plot the histogram of returns and simulated returns\n",
    "\n",
    "p=plt.hist(Re)\n",
    "p1 = plt.hist(RN)"
   ]
  },
  {
   "cell_type": "code",
   "execution_count": null,
   "metadata": {},
   "outputs": [],
   "source": [
    "# plot the index and its 12-month moving-average  \n",
    " \n",
    "df['12MA'] = df['Index'].rolling(window=12,min_periods=0).mean()\n",
    "                # this will create a column, named as 12MA, from the index by taking the average\n",
    "                       # of the past 12 month data (including current month)\n",
    "                # At the firtst to 11 month, impossible to do it. min_periods=0 indicate repplaing them\n",
    "                   # by using the average of available original data\n",
    "                \n",
    "print(df.head())\n",
    "print(df.tail())\n",
    "\n",
    "p2= plt.plot(df['Index'])\n",
    "p3 = plt.plot(df['12MA'])"
   ]
  },
  {
   "cell_type": "code",
   "execution_count": null,
   "metadata": {},
   "outputs": [],
   "source": [
    "# plot a subperiod\n",
    " \n",
    "\n",
    "p2= plt.plot(df.loc[0:100,'Index'], label='SP500 Index')\n",
    "p3 = plt.plot(df.loc[0:100,'12MA'], label='12 month MA')\n",
    "\n",
    "plt.xlabel('Month')\n",
    "plt.ylabel('Index Level')\n",
    "plt.title('SP500 and \\n Its 12-month MA')\n",
    "plt.legend()\n",
    "plt.show()\n"
   ]
  },
  {
   "cell_type": "code",
   "execution_count": null,
   "metadata": {},
   "outputs": [],
   "source": []
  },
  {
   "cell_type": "code",
   "execution_count": null,
   "metadata": {},
   "outputs": [],
   "source": []
  }
 ],
 "metadata": {
  "anaconda-cloud": {},
  "kernelspec": {
   "display_name": "Python 3",
   "language": "python",
   "name": "python3"
  },
  "language_info": {
   "codemirror_mode": {
    "name": "ipython",
    "version": 3
   },
   "file_extension": ".py",
   "mimetype": "text/x-python",
   "name": "python",
   "nbconvert_exporter": "python",
   "pygments_lexer": "ipython3",
   "version": "3.7.6"
  }
 },
 "nbformat": 4,
 "nbformat_minor": 1
}
