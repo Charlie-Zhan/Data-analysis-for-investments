{
 "cells": [
  {
   "cell_type": "markdown",
   "metadata": {},
   "source": [
    "# Getting data from Yahoo Finance"
   ]
  },
  {
   "cell_type": "code",
   "execution_count": 14,
   "metadata": {},
   "outputs": [
    {
     "name": "stdout",
     "output_type": "stream",
     "text": [
      "[*********************100%***********************]  1 of 1 completed\n",
      "158\n",
      "                  Open        High         Low       Close        Volume\n",
      "Date                                                                    \n",
      "2020-02-07         NaN         NaN         NaN         NaN           NaN\n",
      "2020-03-01  281.517943  303.179308  212.036029  253.603500  1.570018e+09\n",
      "2020-04-01  245.834541  293.734876  236.260451  293.006836  8.162224e+08\n",
      "2020-05-01  285.477216  323.364645  285.078302  317.081665  7.015206e+08\n",
      "2020-05-08         NaN         NaN         NaN         NaN           NaN\n",
      "new true sample size after clearning\n",
      "125\n",
      "                  Open        High         Low       Close        Volume\n",
      "Date                                                                    \n",
      "2020-01-01  294.740743  326.190783  291.268415  307.943604  7.335926e+08\n",
      "2020-02-01  302.759950  325.563967  255.072527  271.976532  7.546459e+08\n",
      "2020-03-01  281.517943  303.179308  212.036029  253.603500  1.570018e+09\n",
      "2020-04-01  245.834541  293.734876  236.260451  293.006836  8.162224e+08\n",
      "2020-05-01  285.477216  323.364645  285.078302  317.081665  7.015206e+08\n"
     ]
    }
   ],
   "source": [
    "import yfinance as yf             # remember to install yfinance first by typing below in Spyder:\n",
    "                                   #     pip install yfinance --upgrade --no-cache-dir\n",
    "import pandas as pd                # use it to format data and write it out\n",
    "\n",
    "data = yf.download(                  \n",
    "        tickers = \"AAPL\",    # tickers list or string as well\n",
    "        start=\"2010-01-01\", \n",
    "        end=\"2020-05-30\",\n",
    "        interval = \"1mo\",    # valid intervals: 1mo,2mo,3mo,5mo,15mo,30mo,60mo,90mo,1h,1d,5d,1wk \n",
    "        group_by = 'ticker' 'row',\n",
    "        auto_adjust = True,   # adjusted prices, no worry about dividends and splits; default is False\n",
    "    )                             \n",
    "\n",
    "T = len(data)                 # sample size, length\n",
    "print(T)\n",
    "print(data[T-5:T])          # check data.\n",
    "                              # we see NaN, indicating yf.download is not perfect\n",
    "\n",
    " \n",
    "data = data.dropna()         # clear the redudant rows that have NaN\n",
    "T = len(data) \n",
    "print('new true sample size after clearning')\n",
    "print(T)\n",
    "print(data[T-5:T])\n",
    "\n",
    "pd.DataFrame.to_csv(data,'AAPL1.csv')         # write data to Excel file\n",
    "\n",
    "                            # Now compute the returns\n",
    "AdjP = data.loc[:,\"Close\"]      # B/c dividend and split adjusted, we compute only the % price change \n",
    "Return = AdjP /  AdjP.shift(1) - 1    # the shift(1) is the previous price\n",
    "\n",
    "pd.DataFrame.to_csv(Return,'AAPL2.csv')         # write data to Excel file"
   ]
  },
  {
   "cell_type": "code",
   "execution_count": null,
   "metadata": {},
   "outputs": [],
   "source": []
  }
 ],
 "metadata": {
  "kernelspec": {
   "display_name": "Python 3",
   "language": "python",
   "name": "python3"
  },
  "language_info": {
   "codemirror_mode": {
    "name": "ipython",
    "version": 3
   },
   "file_extension": ".py",
   "mimetype": "text/x-python",
   "name": "python",
   "nbconvert_exporter": "python",
   "pygments_lexer": "ipython3",
   "version": "3.7.6"
  }
 },
 "nbformat": 4,
 "nbformat_minor": 2
}
