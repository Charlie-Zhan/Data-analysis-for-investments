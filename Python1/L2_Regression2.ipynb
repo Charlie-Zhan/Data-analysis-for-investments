{
 "cells": [
  {
   "cell_type": "markdown",
   "metadata": {},
   "source": [
    "*  An example of estimating multiple regression y = a + b1*x1 + b2*x2 + e"
   ]
  },
  {
   "cell_type": "code",
   "execution_count": 1,
   "metadata": {},
   "outputs": [
    {
     "name": "stdout",
     "output_type": "stream",
     "text": [
      "[[1.03989409]\n",
      " [1.73709577]]\n",
      "[[0.68993988]\n",
      " [4.55632411]]\n",
      "                            OLS Regression Results                            \n",
      "==============================================================================\n",
      "Dep. Variable:                      y   R-squared:                       1.000\n",
      "Model:                            OLS   Adj. R-squared:                  1.000\n",
      "Method:                 Least Squares   F-statistic:                 1.132e+08\n",
      "Date:                Sun, 29 Mar 2020   Prob (F-statistic):          1.39e-309\n",
      "Time:                        09:49:31   Log-Likelihood:                -142.22\n",
      "No. Observations:                 100   AIC:                             290.4\n",
      "Df Residuals:                      97   BIC:                             298.2\n",
      "Df Model:                           2                                         \n",
      "Covariance Type:            nonrobust                                         \n",
      "==============================================================================\n",
      "                 coef    std err          t      P>|t|      [0.025      0.975]\n",
      "------------------------------------------------------------------------------\n",
      "const          0.0171      0.306      0.056      0.956      -0.591       0.625\n",
      "x1             1.0010      0.014     71.250      0.000       0.973       1.029\n",
      "x2             0.5000      0.000   3692.888      0.000       0.500       0.500\n",
      "==============================================================================\n",
      "Omnibus:                        0.202   Durbin-Watson:                   1.933\n",
      "Prob(Omnibus):                  0.904   Jarque-Bera (JB):                0.385\n",
      "Skew:                          -0.015   Prob(JB):                        0.825\n",
      "Kurtosis:                       2.698   Cond. No.                     1.36e+04\n",
      "==============================================================================\n",
      "\n",
      "Warnings:\n",
      "[1] Standard Errors assume that the covariance matrix of the errors is correctly specified.\n",
      "[2] The condition number is large, 1.36e+04. This might indicate that there are\n",
      "strong multicollinearity or other numerical problems.\n"
     ]
    }
   ],
   "source": [
    "import numpy as np\n",
    "import matplotlib.pyplot as plt\n",
    "import statsmodels.api as sm                      # We use this package to do estimation\n",
    "%matplotlib inline\n",
    "\n",
    "e = np.random.randn(100,3)                       # Generate noises from N(0,1)\n",
    "x1 = np.arange(1,101) + e[:,0]                   # Generate x1=[1+e1, 2+e2, ..., 100+e100]'\n",
    "x2 = np.square(np.arange(1,101)) + e[:,1]        # Generate x2=[1^2+e1, 2^2+e2, ..., 100^2+e100]'\n",
    "x1.shape = (100,1)\n",
    "x2.shape = (100,1)\n",
    "\n",
    "print (x1[0:2])                                  # check a couple of values\n",
    "print (x2[0:2])  \n",
    "\n",
    "e1 = e[:,2]                                      # e1 has the values of the 3rd column of e\n",
    "e1.shape = (100,1)                               # make sure that e1 is a column vector to\n",
    "                                                #      do column additions below\n",
    "y = x1 + 0.5 * x2 + e1                           # Generate y\n",
    "                                                 # Note that the true value of (a,b1,b2) = (0,1,0.5) \n",
    "    \n",
    "const = np.ones((100,1))               # The constant part\n",
    "xx = np.hstack((const,x1,x2))          # Add the constant part to x\n",
    "\n",
    "\n",
    "# Run the regression\n",
    "\n",
    "reg = sm.OLS(endog=y, exog=xx)\n",
    "result = reg.fit()\n",
    "print(result.summary())\n"
   ]
  },
  {
   "cell_type": "code",
   "execution_count": null,
   "metadata": {},
   "outputs": [],
   "source": []
  },
  {
   "cell_type": "code",
   "execution_count": null,
   "metadata": {},
   "outputs": [],
   "source": []
  },
  {
   "cell_type": "code",
   "execution_count": null,
   "metadata": {},
   "outputs": [],
   "source": []
  }
 ],
 "metadata": {
  "anaconda-cloud": {},
  "kernelspec": {
   "display_name": "Python 3",
   "language": "python",
   "name": "python3"
  },
  "language_info": {
   "codemirror_mode": {
    "name": "ipython",
    "version": 3
   },
   "file_extension": ".py",
   "mimetype": "text/x-python",
   "name": "python",
   "nbconvert_exporter": "python",
   "pygments_lexer": "ipython3",
   "version": "3.7.6"
  }
 },
 "nbformat": 4,
 "nbformat_minor": 1
}
