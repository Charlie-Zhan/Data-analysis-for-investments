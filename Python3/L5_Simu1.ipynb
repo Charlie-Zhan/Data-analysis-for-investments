{
 "cells": [
  {
   "cell_type": "markdown",
   "metadata": {},
   "source": [
    "*    This simulates bivariate normal variables with a given correlation rho"
   ]
  },
  {
   "cell_type": "code",
   "execution_count": 13,
   "metadata": {},
   "outputs": [
    {
     "name": "stdout",
     "output_type": "stream",
     "text": [
      "[[0.47143516]] [[-0.79569763]]\n"
     ]
    }
   ],
   "source": [
    "import numpy as np\n",
    "\n",
    "np.random.seed(1234)         # so that the random numbers will be the same each time running the program\n",
    "\n",
    "\n",
    "e1 = np.random.randn(1,1)     # Generate a random from N(0,1) \n",
    "e2 = np.random.randn(1,1)      \n",
    "\n",
    "rho = 0.5\n",
    "x1 = e1\n",
    "x2 = rho*e1 + np.sqrt(1-rho*rho)*e2        # Then x1 & x2 have unit variance and correlation rho\n",
    "\n",
    "\n",
    "print (x1,x2)                                   "
   ]
  },
  {
   "cell_type": "code",
   "execution_count": 16,
   "metadata": {},
   "outputs": [
    {
     "name": "stdout",
     "output_type": "stream",
     "text": [
      "[[ 0.68278529  0.71873607]\n",
      " [-0.04757865  0.28483434]]\n",
      " The covariance matrix estimate of the data  \n",
      "\n",
      "[[0.99827679 0.49834761]\n",
      " [0.49834761 0.9985419 ]]\n"
     ]
    }
   ],
   "source": [
    "##  A verification: draw 100,000 of them and see whether they have the desired moments\n",
    "        \n",
    "        \n",
    "Y1 = np.ones((1000000,1))    # define Y1 as a 1,000,000 by 1 vector\n",
    "Y2 = np.ones((1000000,1))   # define Y1 as a 1,000,000 by 1 vector\n",
    " \n",
    "for i in range (1000000):\n",
    "    e1 = np.random.randn(1,1)    \n",
    "    e2 = np.random.randn(1,1)\n",
    "    x1 = e1\n",
    "    x2 = rho*e1 + np.sqrt(1-rho*rho)*e2 \n",
    "    Y1[i] = x1\n",
    "    Y2[i] = x2\n",
    "\n",
    "Y = np.column_stack((Y1,Y2))              # stack the columns together to get T by 2 matrix \n",
    "print(Y[0:2])\n",
    "\n",
    "CovY = np.cov(Y.T)                        # the covariance matrix estimate, 2 by 2\n",
    "\n",
    "print(' The covariance matrix estimate of the data  \\n')\n",
    "print(CovY)"
   ]
  },
  {
   "cell_type": "code",
   "execution_count": null,
   "metadata": {},
   "outputs": [],
   "source": []
  }
 ],
 "metadata": {
  "anaconda-cloud": {},
  "kernelspec": {
   "display_name": "Python 3",
   "language": "python",
   "name": "python3"
  },
  "language_info": {
   "codemirror_mode": {
    "name": "ipython",
    "version": 3
   },
   "file_extension": ".py",
   "mimetype": "text/x-python",
   "name": "python",
   "nbconvert_exporter": "python",
   "pygments_lexer": "ipython3",
   "version": "3.7.7"
  }
 },
 "nbformat": 4,
 "nbformat_minor": 1
}
