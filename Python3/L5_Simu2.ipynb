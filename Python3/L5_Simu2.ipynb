{
 "cells": [
  {
   "cell_type": "markdown",
   "metadata": {},
   "source": [
    "*  simulate N-variate normal variables with a given covariance matrix V0"
   ]
  },
  {
   "cell_type": "code",
   "execution_count": 31,
   "metadata": {},
   "outputs": [
    {
     "name": "stdout",
     "output_type": "stream",
     "text": [
      "[[1.  0.1 0.3]\n",
      " [0.2 2.  0.5]\n",
      " [0.3 0.5 3. ]]\n",
      "[[1.         0.         0.        ]\n",
      " [0.1        1.4106736  0.        ]\n",
      " [0.3        0.33317417 1.67301972]]\n",
      "[[1.  0.1 0.3]\n",
      " [0.1 2.  0.5]\n",
      " [0.3 0.5 3. ]]\n",
      " a draw from normal with covariance matrix V0  \n",
      "\n",
      "[[ 0.47143516]\n",
      " [-1.63293445]\n",
      " [ 2.14157522]]\n"
     ]
    }
   ],
   "source": [
    "import numpy as np\n",
    "import scipy.linalg as la      # we need the package to compute the Cholesky decomposition\n",
    "\n",
    "np.random.seed(1234)         # so that the random numbers will be the same each time running the program\n",
    "\n",
    "N = 3\n",
    "V0 = np.array([[1, 0.1, 0.3], \n",
    "               [0.2, 2, 0.5], \n",
    "               [0.3, 0.5, 3]])\n",
    "\n",
    "L1 = la.cholesky(V0)             # Cholesky decomposition:  V0 = L1'*L1\n",
    "\n",
    "L = L1.T                         # V0 = L*L',  L=L1'\n",
    "e = np.random.randn(3,1)   \n",
    "Y = np.matmul(L,e)              # Y = L*e,  a draw from normal with covariance matrix V0\n",
    "\n",
    "V = np.matmul(L1.T,L1)              #   verify V0 = L1'*L1\n",
    "\n",
    "print (V0)      \n",
    "print(L)\n",
    "print (V)      \n",
    "print(' a draw from normal with covariance matrix V0  \\n')\n",
    "print(Y)"
   ]
  },
  {
   "cell_type": "code",
   "execution_count": 33,
   "metadata": {},
   "outputs": [
    {
     "name": "stdout",
     "output_type": "stream",
     "text": [
      "[[ 0.68434407 -0.03619283 -1.64719948]\n",
      " [-0.48340618  0.78529503  1.83148902]]\n",
      " The covariance matrix estimate of the data  \n",
      "\n",
      "[[1.00182971 0.1011089  0.29946709]\n",
      " [0.1011089  1.99941373 0.49487015]\n",
      " [0.29946709 0.49487015 2.99570164]]\n"
     ]
    }
   ],
   "source": [
    "##  A verification: draw 100,000 of them and see whether they have the desired moments\n",
    "        \n",
    "        \n",
    "Z = np.ones((1000000,3))    # define Z to store the draws   \n",
    " \n",
    "for i in range (1000000):\n",
    "    e = np.random.randn(3,1)    \n",
    "    Y = np.matmul(L,e)\n",
    "    Z[i,:] = Y.T\n",
    "  \n",
    "\n",
    "CovY = np.cov(Z.T)                        # the covariance matrix estimate, 2 by 2\n",
    "\n",
    "print(' The covariance matrix estimate of the data  \\n')\n",
    "print(CovY)"
   ]
  },
  {
   "cell_type": "code",
   "execution_count": null,
   "metadata": {},
   "outputs": [],
   "source": []
  }
 ],
 "metadata": {
  "anaconda-cloud": {},
  "kernelspec": {
   "display_name": "Python 3",
   "language": "python",
   "name": "python3"
  },
  "language_info": {
   "codemirror_mode": {
    "name": "ipython",
    "version": 3
   },
   "file_extension": ".py",
   "mimetype": "text/x-python",
   "name": "python",
   "nbconvert_exporter": "python",
   "pygments_lexer": "ipython3",
   "version": "3.7.7"
  }
 },
 "nbformat": 4,
 "nbformat_minor": 1
}
